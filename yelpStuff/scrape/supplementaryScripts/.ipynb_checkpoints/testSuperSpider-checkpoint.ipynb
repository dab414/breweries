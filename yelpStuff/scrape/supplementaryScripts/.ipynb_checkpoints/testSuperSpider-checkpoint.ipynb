{
 "cells": [
  {
   "cell_type": "code",
   "execution_count": 37,
   "metadata": {},
   "outputs": [],
   "source": [
    "import requests\n",
    "import json\n",
    "import re\n",
    "import difflib"
   ]
  },
  {
   "cell_type": "code",
   "execution_count": 15,
   "metadata": {},
   "outputs": [],
   "source": [
    "headers = {'User-Agent': 'Mozilla/5.0 (X11; Linux x86_64) AppleWebKit/537.36 (KHTML, like Gecko) Chrome/42.0.2311.90 Safari/537.36'}\n",
    "result = requests.get('https://www.yelp.com/search?find_desc=king+street+brewing+co&find_loc=anchorage', headers = headers, allow_redirects = False).text"
   ]
  },
  {
   "cell_type": "code",
   "execution_count": 2,
   "metadata": {},
   "outputs": [],
   "source": [
    "sampleText = 'service at [[HIGHLIGHT]]San[[ENDHIGHLIGHT]] [[HIGHLIGHT]]Tan[[ENDHIGHLIGHT]] Uptown! We decided to stop in for tSaturday brunch and it was an awesome experience! Our server was Bryce and he was…\"},\"markerKey\":3,\"searchResultBusiness\":{\"parentBusiness\":null,\"ranking\":3,\"reviewCount\":82,\"name\":\"SanTan Brewing Company - Uptown Phoenix\",\"neighborhoods\":[],\"rating\":4,\"businessUrl\":\"/biz/santan-brewing-company-uptown-phoenix-phoenix?osq=san+tan+brewing+co\",\"isAd\":false,\"serviceArea\":null,\"phone\":\"(602) 595-7390\",\"priceRange\":\"$$\",\"alternateNames\":[],\"formattedAddress\":\"1525 E Bethany Home Rd\",\"renderAdInfo\":false,\"categories\":[{\"url\":\"/search?cflt=brewpubs&amp;find_desc=san+tan+brewing+co&amp;find_loc=chandler\",\"title\":\"Brewpubs\"}]},\"childrenBusinessInfo\":null},{\"searchActions\":[],\"bizId\":\"MAUTYES01tZGlZzAOCSnng\",\"tags\":[],\"searchResultLayoutType\":\"largerScrollablePhotos\",\"scrollablePhotos\":{\"allPhotosHref\":\"/biz_photos/MAUTYES01tZGlZzAOCSnng\",\"photoHref\":\"/biz/sleepy-dog-brewing-'"
   ]
  },
  {
   "cell_type": "code",
   "execution_count": 16,
   "metadata": {},
   "outputs": [],
   "source": [
    "jsonPrep = re.findall(r'searchResultBusiness\":({.*?title.*?}]})', result)"
   ]
  },
  {
   "cell_type": "code",
   "execution_count": 29,
   "metadata": {},
   "outputs": [
    {
     "name": "stdout",
     "output_type": "stream",
     "text": [
      "{u'parentBusiness': None, u'ranking': 1, u'reviewCount': 37, u'name': u'King Street Brewing Company', u'neighborhoods': [], u'rating': 4, u'businessUrl': u'/biz/king-street-brewing-company-anchorage?osq=king+street+brewing+co', u'isAd': False, u'serviceArea': None, u'phone': u'(907) 336-5464', u'priceRange': u'$', u'alternateNames': [], u'formattedAddress': u'9050 King St', u'renderAdInfo': False, u'categories': [{u'url': u'/search?cflt=breweries&amp;find_desc=king+street+brewing+co&amp;find_loc=anchorage', u'title': u'Breweries'}]}\n",
      "\n",
      "\n",
      "{u'parentBusiness': None, u'ranking': 2, u'reviewCount': 1734, u'name': u'Glacier BrewHouse', u'neighborhoods': [], u'rating': 4, u'businessUrl': u'/biz/glacier-brewhouse-anchorage?osq=king+street+brewing+co', u'isAd': False, u'serviceArea': None, u'phone': u'(907) 274-2739', u'priceRange': u'$$', u'alternateNames': [], u'formattedAddress': u'737 W 5th Ave', u'renderAdInfo': False, u'categories': [{u'url': u'/search?cflt=tradamerican&amp;find_desc=king+street+brewing+co&amp;find_loc=anchorage', u'title': u'American (Traditional)'}, {u'url': u'/search?cflt=breweries&amp;find_desc=king+street+brewing+co&amp;find_loc=anchorage', u'title': u'Breweries'}, {u'url': u'/search?cflt=seafood&amp;find_desc=king+street+brewing+co&amp;find_loc=anchorage', u'title': u'Seafood'}]}\n",
      "\n",
      "\n",
      "{u'parentBusiness': None, u'ranking': 3, u'reviewCount': 703, u'name': u'49th State Brewing Co - Anchorage', u'neighborhoods': [], u'rating': 4, u'businessUrl': u'/biz/49th-state-brewing-co-anchorage-anchorage?osq=king+street+brewing+co', u'isAd': False, u'serviceArea': None, u'phone': u'(907) 277-7727', u'priceRange': u'$$', u'alternateNames': [], u'formattedAddress': u'717 West 3rd Ave', u'renderAdInfo': False, u'categories': [{u'url': u'/search?cflt=breweries&amp;find_desc=king+street+brewing+co&amp;find_loc=anchorage', u'title': u'Breweries'}, {u'url': u'/search?cflt=gastropubs&amp;find_desc=king+street+brewing+co&amp;find_loc=anchorage', u'title': u'Gastropubs'}, {u'url': u'/search?cflt=steak&amp;find_desc=king+street+brewing+co&amp;find_loc=anchorage', u'title': u'Steakhouses'}]}\n",
      "\n",
      "\n",
      "{u'parentBusiness': None, u'ranking': 4, u'reviewCount': 196, u'name': u'Midnight Sun Brewing Co', u'neighborhoods': [], u'rating': 4, u'businessUrl': u'/biz/midnight-sun-brewing-co-anchorage?osq=king+street+brewing+co', u'isAd': False, u'serviceArea': None, u'phone': u'(907) 344-1179', u'priceRange': u'$$', u'alternateNames': [], u'formattedAddress': u'8111 Dimond Hook Dr', u'renderAdInfo': False, u'categories': [{u'url': u'/search?cflt=breweries&amp;find_desc=king+street+brewing+co&amp;find_loc=anchorage', u'title': u'Breweries'}]}\n",
      "\n",
      "\n",
      "{u'parentBusiness': None, u'ranking': 5, u'reviewCount': 172, u'name': u'Table 6', u'neighborhoods': [], u'rating': 3.5, u'businessUrl': u'/biz/table-6-anchorage-4?osq=king+street+brewing+co', u'isAd': False, u'serviceArea': None, u'phone': u'(907) 562-6000', u'priceRange': u'$$', u'alternateNames': [], u'formattedAddress': u'3210 Denali St', u'renderAdInfo': False, u'categories': [{u'url': u'/search?cflt=tradamerican&amp;find_desc=king+street+brewing+co&amp;find_loc=anchorage', u'title': u'American (Traditional)'}, {u'url': u'/search?cflt=sportsbars&amp;find_desc=king+street+brewing+co&amp;find_loc=anchorage', u'title': u'Sports Bars'}]}\n",
      "\n",
      "\n",
      "\n",
      "\n",
      "{u'King Street Brewing Company': 0, u'49th State Brewing Co - Anchorage': 2, u'Table 6': 4, u'Glacier BrewHouse': 1, u'Midnight Sun Brewing Co': 3}\n"
     ]
    }
   ],
   "source": [
    "\n",
    "def parseSearchHtml(jsonPrep):\n",
    "    '''\n",
    "    takes as input the text results of the regex of the search page\n",
    "    returns the a list of dicts where each dict is a non-ad seach result\n",
    "    also returns a dict where {'breweryName': its rank on the search page}\n",
    "    '''\n",
    "    breweryNames = {}\n",
    "    jsonData = []\n",
    "    numResult = 0\n",
    "    for e in jsonPrep:\n",
    "        step = json.loads(e)\n",
    "        if not step['isAd']:\n",
    "            jsonBrewery = json.loads(e)\n",
    "            jsonData.append(jsonBrewery)\n",
    "            breweryNames[jsonBrewery['name']] = numResult\n",
    "            numResult += 1\n",
    "\n",
    "    return [jsonData, breweryNames]\n",
    "\n",
    "for e in parseSearchHtml(jsonPrep)[0]:\n",
    "    print e\n",
    "    print '\\n'\n",
    "print '\\n'\n",
    "print parseSearchHtml(jsonPrep)[1]\n",
    "\n",
    "[jsonData, breweryNames] = parseSearchHtml(jsonPrep)"
   ]
  },
  {
   "cell_type": "code",
   "execution_count": 46,
   "metadata": {},
   "outputs": [
    {
     "name": "stdout",
     "output_type": "stream",
     "text": [
      "you dumb\n"
     ]
    }
   ],
   "source": [
    "def findMatchingBrewery(jsonData, breweryNames):\n",
    "    '''\n",
    "    takes as input: \n",
    "        jsonData: a list of dicts where each dict is a non-ad seach result\n",
    "        breweryNames: a dict where {'breweryName': its rank on the search page}\n",
    "    returns the businessUrl of the matching brewery\n",
    "    '''\n",
    "    candidates = difflib.get_close_matches('King Street Brewing Co', breweryNames.keys()[1:], cutoff = .8)\n",
    "    if candidates:\n",
    "        for e in jsonData:\n",
    "            if e['name'] == candidates[0]:\n",
    "                return e['businessUrl']\n",
    "    else:\n",
    "        print 'you dumb'\n",
    "    \n",
    "findMatchingBrewery(jsonData, breweryNames)"
   ]
  }
 ],
 "metadata": {
  "kernelspec": {
   "display_name": "Python 2",
   "language": "python",
   "name": "python2"
  },
  "language_info": {
   "codemirror_mode": {
    "name": "ipython",
    "version": 2
   },
   "file_extension": ".py",
   "mimetype": "text/x-python",
   "name": "python",
   "nbconvert_exporter": "python",
   "pygments_lexer": "ipython2",
   "version": "2.7.15"
  }
 },
 "nbformat": 4,
 "nbformat_minor": 2
}
